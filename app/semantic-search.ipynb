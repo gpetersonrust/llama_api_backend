{
 "cells": [
  {
   "cell_type": "markdown",
   "metadata": {},
   "source": [
    "###Setup Stores ###\n"
   ]
  },
  {
   "cell_type": "code",
   "execution_count": 2,
   "metadata": {},
   "outputs": [
    {
     "name": "stdout",
     "output_type": "stream",
     "text": [
      "✅ Environment ready – vector store folders created.\n",
      "📦 Loading existing FAISS index...\n",
      "🔑 Extracted Keywords: ['michael flynn', 'russia', 'investigation']\n",
      "📁 Keywords saved to extracted_keywords.json\n"
     ]
    }
   ],
   "source": [
    "# -----------------------------------\n",
    "# 🧠 Semantic Search Setup Block\n",
    "# -----------------------------------\n",
    "\n",
    "# 1. Environment Setup\n",
    "from utils.setup_stores import setup_environment\n",
    "setup_environment()  # Ensures Stores/faiss_index and Stores/chroma_index exist\n",
    "\n",
    "# 2. Load and Run the Q&A Indexer\n",
    "from services.indexing_service import QADocumentIndexer\n",
    "\n",
    "qa_json_files = [\n",
    "    \"data/sample_qa_pairs.json\",  # Add more Q&A datasets here as needed\n",
    "]\n",
    "\n",
    "indexer = QADocumentIndexer(\n",
    "    json_paths=[\"data/sample_qa_pairs.json\"]\n",
    ")\n",
    "\n",
    "faiss_store = indexer.load_or_create_faiss()\n",
    "\n",
    "# 3. Keyword Extraction\n",
    "from services.ollama_keyword_extraction_service import extract_keywords_from_prompt, save_keywords_to_json\n",
    "\n",
    "prompt = \"What role did Michael Flynn play in the Russia investigation?\"\n",
    "\n",
    "extracted_keywords = extract_keywords_from_prompt(prompt)\n",
    "print(\"🔑 Extracted Keywords:\", extracted_keywords)\n",
    "\n",
    "# 4. Save Keywords to Local Log\n",
    "save_keywords_to_json(prompt=prompt, keywords=extracted_keywords)\n",
    "print(\"📁 Keywords saved to extracted_keywords.json\")\n",
    "\n",
    "# ✅ All done – ready for hybrid search in Chapter 4"
   ]
  },
  {
   "cell_type": "code",
   "execution_count": null,
   "metadata": {},
   "outputs": [],
   "source": []
  },
  {
   "cell_type": "markdown",
   "metadata": {},
   "source": []
  },
  {
   "cell_type": "markdown",
   "metadata": {},
   "source": []
  }
 ],
 "metadata": {
  "kernelspec": {
   "display_name": ".venv",
   "language": "python",
   "name": "python3"
  },
  "language_info": {
   "codemirror_mode": {
    "name": "ipython",
    "version": 3
   },
   "file_extension": ".py",
   "mimetype": "text/x-python",
   "name": "python",
   "nbconvert_exporter": "python",
   "pygments_lexer": "ipython3",
   "version": "3.13.2"
  }
 },
 "nbformat": 4,
 "nbformat_minor": 2
}
